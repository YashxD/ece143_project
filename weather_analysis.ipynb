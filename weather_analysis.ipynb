{
 "cells": [
  {
   "cell_type": "code",
   "execution_count": 8,
   "metadata": {},
   "outputs": [],
   "source": [
    "import pandas as pd\n",
    "import matplotlib.pyplot as plt"
   ]
  },
  {
   "cell_type": "code",
   "execution_count": 9,
   "metadata": {},
   "outputs": [],
   "source": [
    "#Open df mingextract_with_weather.csv\n",
    "df = pd.read_csv('mingextract_with_weather.csv')"
   ]
  },
  {
   "cell_type": "code",
   "execution_count": 10,
   "metadata": {},
   "outputs": [
    {
     "data": {
      "text/html": [
       "<div>\n",
       "<style scoped>\n",
       "    .dataframe tbody tr th:only-of-type {\n",
       "        vertical-align: middle;\n",
       "    }\n",
       "\n",
       "    .dataframe tbody tr th {\n",
       "        vertical-align: top;\n",
       "    }\n",
       "\n",
       "    .dataframe thead th {\n",
       "        text-align: right;\n",
       "    }\n",
       "</style>\n",
       "<table border=\"1\" class=\"dataframe\">\n",
       "  <thead>\n",
       "    <tr style=\"text-align: right;\">\n",
       "      <th></th>\n",
       "      <th>type</th>\n",
       "      <th>price</th>\n",
       "      <th>location</th>\n",
       "      <th>date</th>\n",
       "      <th>time</th>\n",
       "      <th>weather</th>\n",
       "      <th>rain</th>\n",
       "    </tr>\n",
       "  </thead>\n",
       "  <tbody>\n",
       "    <tr>\n",
       "      <th>0</th>\n",
       "      <td>bicycle</td>\n",
       "      <td>200</td>\n",
       "      <td>mesa nueva - cala</td>\n",
       "      <td>09/04/2022</td>\n",
       "      <td>04:30</td>\n",
       "      <td>65.1</td>\n",
       "      <td>0.0</td>\n",
       "    </tr>\n",
       "    <tr>\n",
       "      <th>1</th>\n",
       "      <td>bicycle</td>\n",
       "      <td>500</td>\n",
       "      <td>regents rd</td>\n",
       "      <td>09/05/2022</td>\n",
       "      <td>04:30</td>\n",
       "      <td>65.1</td>\n",
       "      <td>0.0</td>\n",
       "    </tr>\n",
       "    <tr>\n",
       "      <th>2</th>\n",
       "      <td>bicycle</td>\n",
       "      <td>330</td>\n",
       "      <td>sixth college</td>\n",
       "      <td>09/02/2022</td>\n",
       "      <td>13:00</td>\n",
       "      <td>68.8</td>\n",
       "      <td>0.0</td>\n",
       "    </tr>\n",
       "    <tr>\n",
       "      <th>3</th>\n",
       "      <td>scooter</td>\n",
       "      <td>1004</td>\n",
       "      <td>innovation ln foodworx</td>\n",
       "      <td>06/30/2022</td>\n",
       "      <td>20:00</td>\n",
       "      <td>67.4</td>\n",
       "      <td>0.0</td>\n",
       "    </tr>\n",
       "    <tr>\n",
       "      <th>4</th>\n",
       "      <td>scooter</td>\n",
       "      <td>1004</td>\n",
       "      <td>innovation ln foodworx</td>\n",
       "      <td>07/01/2022</td>\n",
       "      <td>21:00</td>\n",
       "      <td>69.7</td>\n",
       "      <td>0.0</td>\n",
       "    </tr>\n",
       "    <tr>\n",
       "      <th>...</th>\n",
       "      <td>...</td>\n",
       "      <td>...</td>\n",
       "      <td>...</td>\n",
       "      <td>...</td>\n",
       "      <td>...</td>\n",
       "      <td>...</td>\n",
       "      <td>...</td>\n",
       "    </tr>\n",
       "    <tr>\n",
       "      <th>2013</th>\n",
       "      <td>bicycle</td>\n",
       "      <td>1000</td>\n",
       "      <td>kaleidescope -</td>\n",
       "      <td>09/25/2020</td>\n",
       "      <td>17:30</td>\n",
       "      <td>66.7</td>\n",
       "      <td>0.0</td>\n",
       "    </tr>\n",
       "    <tr>\n",
       "      <th>2014</th>\n",
       "      <td>bicycle</td>\n",
       "      <td>1200</td>\n",
       "      <td>nuevo  - tierra</td>\n",
       "      <td>09/28/2020</td>\n",
       "      <td>16:00</td>\n",
       "      <td>72.5</td>\n",
       "      <td>0.0</td>\n",
       "    </tr>\n",
       "    <tr>\n",
       "      <th>2015</th>\n",
       "      <td>bicycle</td>\n",
       "      <td>550</td>\n",
       "      <td>1 miramar st</td>\n",
       "      <td>09/24/2020</td>\n",
       "      <td>17:35</td>\n",
       "      <td>64.0</td>\n",
       "      <td>0.0</td>\n",
       "    </tr>\n",
       "    <tr>\n",
       "      <th>2016</th>\n",
       "      <td>bicycle</td>\n",
       "      <td>600</td>\n",
       "      <td>1 miramar street</td>\n",
       "      <td>09/29/2020</td>\n",
       "      <td>12:05</td>\n",
       "      <td>73.3</td>\n",
       "      <td>0.0</td>\n",
       "    </tr>\n",
       "    <tr>\n",
       "      <th>2017</th>\n",
       "      <td>bicycle</td>\n",
       "      <td>300</td>\n",
       "      <td>ucsd police department</td>\n",
       "      <td>09/29/2020</td>\n",
       "      <td>11:15</td>\n",
       "      <td>76.3</td>\n",
       "      <td>0.0</td>\n",
       "    </tr>\n",
       "  </tbody>\n",
       "</table>\n",
       "<p>2018 rows × 7 columns</p>\n",
       "</div>"
      ],
      "text/plain": [
       "         type price                location        date   time  weather  rain\n",
       "0     bicycle   200       mesa nueva - cala  09/04/2022  04:30     65.1   0.0\n",
       "1     bicycle   500              regents rd  09/05/2022  04:30     65.1   0.0\n",
       "2     bicycle   330           sixth college  09/02/2022  13:00     68.8   0.0\n",
       "3     scooter  1004  innovation ln foodworx  06/30/2022  20:00     67.4   0.0\n",
       "4     scooter  1004  innovation ln foodworx  07/01/2022  21:00     69.7   0.0\n",
       "...       ...   ...                     ...         ...    ...      ...   ...\n",
       "2013  bicycle  1000         kaleidescope -   09/25/2020  17:30     66.7   0.0\n",
       "2014  bicycle  1200         nuevo  - tierra  09/28/2020  16:00     72.5   0.0\n",
       "2015  bicycle   550            1 miramar st  09/24/2020  17:35     64.0   0.0\n",
       "2016  bicycle   600        1 miramar street  09/29/2020  12:05     73.3   0.0\n",
       "2017  bicycle   300  ucsd police department  09/29/2020  11:15     76.3   0.0\n",
       "\n",
       "[2018 rows x 7 columns]"
      ]
     },
     "execution_count": 10,
     "metadata": {},
     "output_type": "execute_result"
    }
   ],
   "source": [
    "df"
   ]
  },
  {
   "cell_type": "code",
   "execution_count": 11,
   "metadata": {},
   "outputs": [],
   "source": [
    "df['price'] = pd.to_numeric(df['price'], errors='coerce')\n",
    "df = df.dropna(subset=['price'])"
   ]
  },
  {
   "cell_type": "code",
   "execution_count": null,
   "metadata": {},
   "outputs": [],
   "source": [
    "#THe plot below shows the distribution of crimes vs temperature"
   ]
  },
  {
   "cell_type": "code",
   "execution_count": 13,
   "metadata": {},
   "outputs": [
    {
     "name": "stderr",
     "output_type": "stream",
     "text": [
      "/tmp/ipykernel_836672/3147357983.py:6: SettingWithCopyWarning: \n",
      "A value is trying to be set on a copy of a slice from a DataFrame.\n",
      "Try using .loc[row_indexer,col_indexer] = value instead\n",
      "\n",
      "See the caveats in the documentation: https://pandas.pydata.org/pandas-docs/stable/user_guide/indexing.html#returning-a-view-versus-a-copy\n",
      "  df['temp_range'] = pd.cut(df['weather'], bins=temp_bins)\n"
     ]
    },
    {
     "data": {
      "image/png": "[encoded data removed]",
      "text/plain": [
       "<Figure size 864x432 with 1 Axes>"
      ]
     },
     "metadata": {
      "needs_background": "light"
     },
     "output_type": "display_data"
    }
   ],
   "source": [
    "temp_min = df['weather'].min()\n",
    "temp_max = df['weather'].max()\n",
    "bin_width = 2\n",
    "temp_bins = pd.interval_range(start=temp_min, end=temp_max + bin_width, freq=bin_width, closed='left')\n",
    "\n",
    "df['temp_range'] = pd.cut(df['weather'], bins=temp_bins)\n",
    "incident_counts = df['temp_range'].value_counts().sort_index()\n",
    "\n",
    "plt.figure(figsize=(12, 6))\n",
    "incident_counts.plot(kind='bar', color='skyblue', edgecolor='black', width=1)  # Set width=1 to remove gaps\n",
    "plt.title('Number of Incidents by Temperature Range (2°F bins)')\n",
    "plt.xlabel('Temperature Range (°F)')\n",
    "\n",
    "plt.yticks([])\n",
    "\n",
    "plt.xticks(\n",
    "    ticks=range(len(incident_counts.index)),\n",
    "    labels=[f\"{interval.left}-{interval.right}°F\" for interval in incident_counts.index],\n",
    "    rotation=45\n",
    ")\n",
    "plt.grid(axis='y', linestyle='--', alpha=0.7)\n",
    "plt.tight_layout()\n",
    "plt.show()\n",
    "\n"
   ]
  },
  {
   "cell_type": "code",
   "execution_count": null,
   "metadata": {},
   "outputs": [],
   "source": [
    "#Below is the graph for weather data at UCSD sampled at random datetimes\n",
    "#The random times are obtained by reshuffling the dates and times of origianl data independently and sampling the weather data from there"
   ]
  },
  {
   "cell_type": "code",
   "execution_count": 16,
   "metadata": {},
   "outputs": [
    {
     "data": {
      "image/png": "[encoded data removed]",
      "text/plain": [
       "<Figure size 864x432 with 1 Axes>"
      ]
     },
     "metadata": {
      "needs_background": "light"
     },
     "output_type": "display_data"
    }
   ],
   "source": [
    "df = pd.read_csv('random_weather_data.csv')\n",
    "df['temperature'] = pd.to_numeric(df['temperature'], errors='coerce')\n",
    "bin_edges = list(range(39, 91, 2))\n",
    "df['temp_range'] = pd.cut(df['temperature'], bins=bin_edges)\n",
    "temp_counts = df['temp_range'].value_counts().sort_index()\n",
    "plt.figure(figsize=(12, 6))\n",
    "temp_counts.plot(kind='bar', color='blue', edgecolor='black', alpha=0.7, width=1.0)\n",
    "plt.title('Temperature Histogram (39°F to 89°F with 2°F intervals)')\n",
    "plt.xlabel('Temperature Range (°F)')\n",
    "plt.xticks(\n",
    "    ticks=range(len(temp_counts.index)),\n",
    "    labels=[f\"{int(interval.left)}-{int(interval.right)}°F\" for interval in temp_counts.index],\n",
    "    rotation=45\n",
    ")\n",
    "plt.yticks([])\n",
    "plt.grid(axis='y', linestyle='--', alpha=0.7)\n",
    "plt.tight_layout()\n",
    "plt.show()"
   ]
  },
  {
   "cell_type": "code",
   "execution_count": null,
   "metadata": {},
   "outputs": [],
   "source": [
    "#In conluclusion, the two graphs are similar and there does not seem to be a relationship between temperature and crime rate"
   ]
  }
 ],
 "metadata": {
  "kernelspec": {
   "display_name": "Python 3",
   "language": "python",
   "name": "python3"
  },
  "language_info": {
   "codemirror_mode": {
    "name": "ipython",
    "version": 3
   },
   "file_extension": ".py",
   "mimetype": "text/x-python",
   "name": "python",
   "nbconvert_exporter": "python",
   "pygments_lexer": "ipython3",
   "version": "3.8.10"
  }
 },
 "nbformat": 4,
 "nbformat_minor": 2
}
